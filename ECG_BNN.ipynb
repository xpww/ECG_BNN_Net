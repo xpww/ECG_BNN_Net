{
 "cells": [
  {
   "cell_type": "code",
   "execution_count": null,
   "outputs": [],
   "source": [
    "import torch\n",
    "import torch.nn as nn\n",
    "import torch.optim as optim\n",
    "from utils.model import ECG_XNOR_Full_Bin, ECG_XNOR_Ori\n",
    "from utils.OP import WeightOperation\n",
    "from utils.dataset import Loader\n",
    "from utils.engine import train\n",
    "from utils.save_model import save_model\n",
    "\n",
    "device = torch.device('cuda:0' if torch.cuda.is_available() else 'cpu')\n",
    "import numpy as np\n",
    "import random\n",
    "import os\n",
    "\n",
    "\n",
    "\n",
    "classes_num = 5\n",
    "test_size = 0.2\n",
    "if classes_num == 17:\n",
    "    batch_size = 64\n",
    "    lr = 0.002\n",
    "    seed = 142\n",
    "else:\n",
    "    batch_size = 512\n",
    "    lr = 0.02\n",
    "    seed = 101\n",
    "\n",
    "\n",
    "random.seed(seed)\n",
    "np.random.seed(seed)\n",
    "torch.manual_seed(seed)\n",
    "torch.cuda.manual_seed(seed)\n",
    "\n",
    "loader = Loader(batch_size=batch_size, classes_num=classes_num, device=device, test_size=test_size)\n",
    "labels, train_loader, test_loader = loader.loader()\n",
    "# in_channels, out_channels,    kernel_size,     stride,    padding,   pad_value,   pool_size,  pool_stride\n",
    "kernel_size, padding, poolsize =7, 5, 7\n",
    "padding_value = 1\n",
    "A = [[1,           8,           kernel_size,       2,       padding,       padding_value,       poolsize,        2],\n",
    "     [8,          16,           kernel_size,       1,       padding,       padding_value,       poolsize,        2],\n",
    "     [16,         32,           kernel_size,       1,       padding,       padding_value,       poolsize,        2],\n",
    "     [32,         32,           kernel_size,       1,       padding,       padding_value,       poolsize,        2],\n",
    "     [32,         64,           kernel_size,       1,       padding,       padding_value,       poolsize,        2],\n",
    "     [64,         classes_num,  kernel_size,       1,       padding,       padding_value,       poolsize,        2],\n",
    "     ]\n",
    "\n",
    "model = ECG_XNOR_Ori(block1=A[0], block2=A[1], block3=A[2], block4=A[3],\n",
    "                      block5=A[4] if len(A) > 4 else None,\n",
    "                      block6=A[5] if len(A) > 5 else None,\n",
    "                      block7=A[6] if len(A) > 6 else None,\n",
    "                      device=device).to(device)\n",
    "loss_fn = nn.CrossEntropyLoss().to(device)\n",
    "optimizer = optim.Adam(model.parameters(), lr=lr)\n",
    "print(device)\n",
    "print(seed)"
   ],
   "metadata": {
    "collapsed": false
   }
  },
  {
   "cell_type": "code",
   "execution_count": null,
   "outputs": [],
   "source": [
    "from torchinfo import summary\n",
    "summary(model=model,\n",
    "        input_size=(batch_size, 1, 3600),  # make sure this is \"input_size\", not \"input_shape\"\n",
    "        col_names=[\"input_size\", \"output_size\", \"num_params\", \"trainable\"],\n",
    "        col_width=20,\n",
    "        row_settings=[\"var_names\"])"
   ],
   "metadata": {
    "collapsed": false
   }
  },
  {
   "cell_type": "code",
   "execution_count": null,
   "outputs": [],
   "source": [
    "weightOperation = WeightOperation(model)"
   ],
   "metadata": {
    "collapsed": false
   }
  },
  {
   "cell_type": "code",
   "execution_count": null,
   "outputs": [],
   "source": [
    "num_epochs = 1000\n",
    "best_test_acc = train(model=model,\n",
    "      train_dataloader=train_loader,\n",
    "      test_dataloader=test_loader,\n",
    "      optimizer=optimizer,\n",
    "      loss_fn=loss_fn,\n",
    "      epochs=num_epochs,\n",
    "      device=device,\n",
    "      writer=False,\n",
    "      weight_op=weightOperation,\n",
    "      classes_num = classes_num)\n",
    "\n",
    "print(\"-\" * 50 + \"\\n\")"
   ],
   "metadata": {
    "collapsed": false
   }
  },
  {
   "cell_type": "code",
   "execution_count": null,
   "outputs": [],
   "source": [],
   "metadata": {
    "collapsed": false
   }
  },
  {
   "cell_type": "code",
   "execution_count": null,
   "outputs": [],
   "source": [],
   "metadata": {
    "collapsed": false
   }
  },
  {
   "cell_type": "code",
   "execution_count": null,
   "outputs": [],
   "source": [],
   "metadata": {
    "collapsed": false
   }
  },
  {
   "cell_type": "code",
   "execution_count": null,
   "outputs": [],
   "source": [],
   "metadata": {
    "collapsed": false
   }
  },
  {
   "cell_type": "code",
   "execution_count": null,
   "outputs": [],
   "source": [],
   "metadata": {
    "collapsed": false
   }
  },
  {
   "cell_type": "code",
   "execution_count": null,
   "outputs": [],
   "source": [],
   "metadata": {
    "collapsed": false
   }
  },
  {
   "cell_type": "code",
   "execution_count": null,
   "outputs": [],
   "source": [],
   "metadata": {
    "collapsed": false
   }
  }
 ],
 "metadata": {
  "kernelspec": {
   "name": "pytorch",
   "language": "python",
   "display_name": "PyTorch"
  },
  "language_info": {
   "codemirror_mode": {
    "name": "ipython",
    "version": 2
   },
   "file_extension": ".py",
   "mimetype": "text/x-python",
   "name": "python",
   "nbconvert_exporter": "python",
   "pygments_lexer": "ipython2",
   "version": "2.7.6"
  }
 },
 "nbformat": 4,
 "nbformat_minor": 0
}
